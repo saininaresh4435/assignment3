{
 "cells": [
  {
   "cell_type": "code",
   "execution_count": 99,
   "metadata": {},
   "outputs": [],
   "source": [
    "import pandas as pd\n",
    "import numpy as np\n",
    "from sklearn.utils import shuffle\n",
    "from sklearn.tree import export_graphviz\n",
    "from sklearn.metrics import roc_auc_score\n",
    "from sklearn.model_selection import train_test_split\n",
    "from sklearn.ensemble import RandomForestClassifier\n",
    "from sklearn.tree import DecisionTreeClassifier\n",
    "from sklearn.model_selection import GridSearchCV\n",
    "from sklearn.cross_validation import cross_val_score\n",
    "from sklearn import cross_validation\n",
    "from sklearn import tree\n",
    "from sklearn.svm import SVC"
   ]
  },
  {
   "cell_type": "code",
   "execution_count": 100,
   "metadata": {
    "collapsed": true
   },
   "outputs": [],
   "source": [
    "df=pd.read_csv(\"sonar.all-data\",header=None)\n",
    "#df = shuffle(df)\n",
    "df[60] = df[60].apply(lambda x: 0 if x=='R' else 1)\n",
    "y=df[60]\n",
    "x=df.drop(60,axis=1)\n",
    "x_train,x_test,y_train,y_test=train_test_split(x,y,test_size=0.2)"
   ]
  },
  {
   "cell_type": "code",
   "execution_count": null,
   "metadata": {},
   "outputs": [],
   "source": []
  },
  {
   "cell_type": "code",
   "execution_count": 93,
   "metadata": {},
   "outputs": [
    {
     "name": "stdout",
     "output_type": "stream",
     "text": [
      "0.753012048193 {'max_depth': 8}\n",
      "roc value: 0.720823798627\n",
      "Model Accuracy: 1.0\n",
      "Model Accuracy: 0.7142857142857143\n"
     ]
    }
   ],
   "source": [
    "#def decesiontreeclassifier():\n",
    "parameters = {'max_depth':range(2,12)}\n",
    "clf = GridSearchCV(tree.DecisionTreeClassifier(), parameters,n_jobs=4)\n",
    "    #scores = cross_val_score(estimator=clf, X=x_train, y=y_train, cv=7, n_jobs=4)\n",
    "clf.fit(X=x_train, y=y_train)\n",
    "tree_model = clf.best_estimator_\n",
    "print (clf.best_score_, clf.best_params_)\n",
    "test_preds = clf.predict(x_test)\n",
    "    #print(test_preds)\n",
    "rf_probs1= clf.predict_proba(x_test)[:, 1]\n",
    "    # training error\n",
    "print(\"roc value:\", roc_auc_score(y_test, rf_probs1))\n",
    "\n",
    "#decesiontreeclassifier()\n",
    "print(f'Model Accuracy: {clf.score(x_train, y_train)}')\n",
    "    #test error\n",
    "print(f'Model Accuracy: {clf.score(x_test, y_test)}')\n"
   ]
  },
  {
   "cell_type": "code",
   "execution_count": 94,
   "metadata": {},
   "outputs": [
    {
     "name": "stdout",
     "output_type": "stream",
     "text": [
      "roc_value: 0.913043478261\n",
      "Model Accuracy: 1.0\n",
      "Model Accuracy: 0.7619047619047619\n"
     ]
    }
   ],
   "source": [
    "def randomforestclassifier():\n",
    "    random_clf = RandomForestClassifier(n_estimators=10000, max_features='sqrt',bootstrap=True, random_state=42)\n",
    "    model=random_clf.fit(x_train, y_train)\n",
    "    y_pred=model.predict(x_test)\n",
    "    #errors = np.sum(abs(y_pred - y_test))\n",
    "    #abserror=round(np.mean(errors), 2)\n",
    "    #print(\"absolute_erroe:\",abserror)\n",
    "    rf_probs = model.predict_proba(x_test)[:, 1]\n",
    "    roc_value = roc_auc_score(y_test, rf_probs)\n",
    "    print(\"roc_value:\",roc_value)\n",
    "    print(f'Model Accuracy: {random_clf.score(x_train, y_train)}')\n",
    "    #test error\n",
    "    print(f'Model Accuracy: {random_clf.score(x_test, y_test)}')\n",
    "randomforestclassifier()\n",
    "    "
   ]
  },
  {
   "cell_type": "code",
   "execution_count": 105,
   "metadata": {},
   "outputs": [],
   "source": [
    "def svc():\n",
    "    svm = SVC(gamma='scale', probability=True,  kernel='poly') \n",
    "    svm_model = svm.fit(x_train, y_train)\n",
    "    y_pred_svm = svm_model.predict(x_test)\n",
    "    print('x')\n",
    "    print('Accuracy of SVM classifier on traning set: {:.2f}'.format(svm_model.score(x_train, y_train)))\n",
    "    print('Accuracy of SVM classifier on test set: {:.2f}'.format(svm_model.score(x_test, y_test)))\n",
    "    return svm_model\n",
    "svm_model=svc"
   ]
  },
  {
   "cell_type": "code",
   "execution_count": null,
   "metadata": {
    "collapsed": true
   },
   "outputs": [],
   "source": []
  }
 ],
 "metadata": {
  "kernelspec": {
   "display_name": "Python 3",
   "language": "python",
   "name": "python3"
  },
  "language_info": {
   "codemirror_mode": {
    "name": "ipython",
    "version": 3
   },
   "file_extension": ".py",
   "mimetype": "text/x-python",
   "name": "python",
   "nbconvert_exporter": "python",
   "pygments_lexer": "ipython3",
   "version": "3.6.3"
  }
 },
 "nbformat": 4,
 "nbformat_minor": 2
}
