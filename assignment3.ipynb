{
 "cells": [
  {
   "cell_type": "code",
   "execution_count": 95,
   "metadata": {
    "collapsed": true
   },
   "outputs": [],
   "source": [
    "import pandas as pd\n",
    "import numpy as np\n",
    "from sklearn.utils import shuffle\n",
    "from sklearn.tree import export_graphviz\n",
    "from sklearn.metrics import roc_auc_score\n",
    "from sklearn.model_selection import train_test_split\n",
    "from sklearn.ensemble import RandomForestClassifier\n",
    "from sklearn.tree import DecisionTreeClassifier\n",
    "from sklearn.model_selection import GridSearchCV\n",
    "from sklearn.cross_validation import cross_val_score\n",
    "from sklearn import cross_validation\n",
    "from sklearn import tree\n",
    "from sklearn import svm\n",
    "from sklearn.svm import SVC\n",
    "from sklearn import metrics"
   ]
  },
  {
   "cell_type": "code",
   "execution_count": 96,
   "metadata": {
    "collapsed": true
   },
   "outputs": [],
   "source": [
    "df=pd.read_csv(\"sonar.all-data\",header=None)\n",
    "df[60] = df[60].apply(lambda x: 0 if x=='R' else 1)\n",
    "y=df[60]\n",
    "x=df.drop(60,axis=1)\n",
    "x_train,x_test,y_train,y_test=train_test_split(x,y,test_size=0.2)"
   ]
  },
  {
   "cell_type": "code",
   "execution_count": 97,
   "metadata": {},
   "outputs": [
    {
     "name": "stdout",
     "output_type": "stream",
     "text": [
      "0.734939759036 {'max_depth': 2, 'min_samples_leaf': 5, 'min_samples_split': 4}\n",
      "roc value: 0.618037135279\n",
      "training Model Accuracy: 0.8132530120481928\n",
      "0.619047619048\n"
     ]
    }
   ],
   "source": [
    "def decesiontreeclassifier():\n",
    "    parameters = [{'max_depth':[2,4,6,8,10],'min_samples_split':[2,3,4,5],'min_samples_leaf':[2,3,4,5]}]\n",
    "    clf = GridSearchCV(tree.DecisionTreeClassifier(), param_grid=parameters,n_jobs=4,cv=5)\n",
    "    clf.fit(X=x_train, y=y_train)\n",
    "    tree_model = clf.best_estimator_\n",
    "    print (clf.best_score_, clf.best_params_)\n",
    "    pred = clf.predict(x_test)\n",
    "    rf_probs1= clf.predict_proba(x_test)[:, 1]\n",
    "    print(\"roc value:\", roc_auc_score(y_test, pred))\n",
    "    print(f'training Model Accuracy: {clf.score(x_train, y_train)}')\n",
    "    #test error\n",
    "    print(metrics.accuracy_score(y_test,pred))\n",
    "    \n",
    "decesiontreeclassifier()\n"
   ]
  },
  {
   "cell_type": "code",
   "execution_count": 88,
   "metadata": {},
   "outputs": [
    {
     "name": "stdout",
     "output_type": "stream",
     "text": [
      "{'bootstrap': False, 'max_depth': 6, 'min_samples_leaf': 3, 'min_samples_split': 7, 'n_estimators': 100}\n",
      "Accuracy for Random Forest on CV data:  0.785714285714\n"
     ]
    }
   ],
   "source": [
    "def randomforestclassifier():\n",
    "    param_grid = {'bootstrap': [True,False],'max_depth': [2,3,4,5,6,7],'min_samples_leaf': [2,3,4,5, 6],\n",
    "    'min_samples_split': [2,3,4,5,6,7,8],'n_estimators': [10,100,500,1000]}\n",
    "    rfc=RandomForestClassifier(random_state=42,max_features='sqrt')\n",
    "    CV_rfc = GridSearchCV(estimator=rfc, param_grid=param_grid, cv= 5)\n",
    "    CV_rfc.fit(x_train, y_train)\n",
    "    best_params=CV_rfc.best_params_\n",
    "    print(best_params)\n",
    "    rfc1=RandomForestClassifier(random_state=42,min_samples_leaf=best_params['min_samples_leaf'],min_samples_split=best_params['min_samples_split'],max_features='sqrt', n_estimators= 100, max_depth=best_params['max_depth'], criterion='gini')\n",
    "    rfc1.fit(x_train, y_train)\n",
    "    pred=rfc1.predict(x_test)\n",
    "    print(\"Accuracy for Random Forest on CV data: \",metrics.accuracy_score(y_test,pred))\n",
    "    \n",
    "randomforestclassifier() "
   ]
  },
  {
   "cell_type": "code",
   "execution_count": 56,
   "metadata": {},
   "outputs": [
    {
     "name": "stdout",
     "output_type": "stream",
     "text": [
      "best param: {'C': 10, 'gamma': 1}\n",
      "kernal name: linear\n",
      "Accuracy Score:\n",
      "0.785714285714\n",
      "kernal name: rbf\n",
      "Accuracy Score:\n",
      "0.880952380952\n",
      "kernal name: poly\n",
      "Accuracy Score:\n",
      "0.833333333333\n"
     ]
    }
   ],
   "source": [
    "from sklearn import svm, grid_search\n",
    "def svc_param_selection(X, y, nfolds):\n",
    "    Cs = [0.001, 0.01, 0.1, 1, 1.1,2,3,10]\n",
    "    gammas = [0.001, 0.01, 0.1, 1]\n",
    "    #kernels = [‘linear’, ‘rbf’, ‘poly’]\n",
    "    param_grid = {'C': Cs, 'gamma' : gammas}\n",
    "    grid_search = GridSearchCV(svm.SVC(kernel='rbf'), param_grid, cv=nfolds)\n",
    "    grid_search.fit(X, y)\n",
    "    grid_search.best_params_\n",
    "    return grid_search,grid_search.best_params_\n",
    "\n",
    "\n",
    "grid_search,params=svc_param_selection(x_train, y_train, 10)\n",
    "y_pred=grid_search.predict(x_test)\n",
    "print('best param:',params)\n",
    "kernals=\"linear,rbf,poly\"\n",
    "kernals=kernals.split(',')\n",
    "for kernel in kernals:\n",
    "    svc=SVC(kernel=kernel,C=params['C'],gamma=params['gamma'])\n",
    "    svc.fit(x_train,y_train)\n",
    "    y_pred=svc.predict(x_test)\n",
    "    print(\"kernal name:\",kernel)\n",
    "    print('Accuracy Score:')\n",
    "    print(metrics.accuracy_score(y_test,y_pred))\n",
    "    "
   ]
  },
  {
   "cell_type": "code",
   "execution_count": null,
   "metadata": {
    "collapsed": true
   },
   "outputs": [],
   "source": []
  }
 ],
 "metadata": {
  "kernelspec": {
   "display_name": "Python 3",
   "language": "python",
   "name": "python3"
  },
  "language_info": {
   "codemirror_mode": {
    "name": "ipython",
    "version": 3
   },
   "file_extension": ".py",
   "mimetype": "text/x-python",
   "name": "python",
   "nbconvert_exporter": "python",
   "pygments_lexer": "ipython3",
   "version": "3.6.3"
  }
 },
 "nbformat": 4,
 "nbformat_minor": 2
}
