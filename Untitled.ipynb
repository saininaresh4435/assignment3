{
 "cells": [
  {
   "cell_type": "code",
   "execution_count": 807,
   "metadata": {},
   "outputs": [],
   "source": [
    "import pandas as pd\n",
    "import numpy as np\n",
    "from sklearn.utils import shuffle\n",
    "from sklearn.tree import export_graphviz\n",
    "from sklearn.metrics import roc_auc_score\n",
    "from sklearn.model_selection import train_test_split\n",
    "from sklearn.ensemble import RandomForestClassifier\n",
    "from sklearn.tree import DecisionTreeClassifier\n",
    "from sklearn.model_selection import GridSearchCV\n",
    "from sklearn.cross_validation import cross_val_score\n",
    "from sklearn import cross_validation\n",
    "from sklearn import tree"
   ]
  },
  {
   "cell_type": "code",
   "execution_count": 814,
   "metadata": {},
   "outputs": [],
   "source": [
    "df=pd.read_csv(\"sonar.all-data\",header=None)\n",
    "#df = shuffle(df)\n",
    "df[60] = df[60].apply(lambda x: 0 if x=='R' else 1)\n",
    "y=df[60]\n",
    "x=df.drop(60,axis=1)\n",
    "x_train,x_test,y_train,y_test=train_test_split(x,y,test_size=0.2)"
   ]
  },
  {
   "cell_type": "code",
   "execution_count": 815,
   "metadata": {},
   "outputs": [
    {
     "name": "stdout",
     "output_type": "stream",
     "text": [
      "roc_value: 0.931818181818\n"
     ]
    }
   ],
   "source": [
    "def randomforestclassifier():\n",
    "    random_clf = RandomForestClassifier(n_estimators=1000, max_features='sqrt',bootstrap=True, random_state=42)\n",
    "    model=random_clf.fit(x_train, y_train)\n",
    "    y_pred=model.predict(x_test)\n",
    "    #errors = np.sum(abs(y_pred - y_test))\n",
    "    #abserror=round(np.mean(errors), 2)\n",
    "    #print(\"absolute_erroe:\",abserror)\n",
    "    rf_probs = model.predict_proba(x_test)[:, 1]\n",
    "    roc_value = roc_auc_score(y_test, rf_probs)\n",
    "    print(\"roc_value:\",roc_value)\n",
    "randomforestclassifier()\n",
    "    "
   ]
  },
  {
   "cell_type": "code",
   "execution_count": 816,
   "metadata": {},
   "outputs": [],
   "source": [
    "#decesion tree\n",
    "\n",
    "#tree=DecisionTreeClassifier\n",
    "\n",
    "# Make a decision tree and train\n",
    "#tree = DecisionTreeClassifier(random_state=65,criterion='entropy',max_depth=6,min_samples_leaf=12,min_samples_split=2)\n",
    "#tree.fit(x_train, y_train)"
   ]
  },
  {
   "cell_type": "code",
   "execution_count": 817,
   "metadata": {},
   "outputs": [
    {
     "name": "stdout",
     "output_type": "stream",
     "text": [
      "0.765060240964 {'max_depth': 3}\n",
      "Model Accuracy: 0.9036144578313253\n",
      "Model Accuracy: 0.6666666666666666\n",
      "0.720454545455\n"
     ]
    }
   ],
   "source": [
    "def decesiontreeclassifier():\n",
    "    parameters = {'max_depth':range(2,20)}\n",
    "    clf = GridSearchCV(tree.DecisionTreeClassifier(), parameters,n_jobs=4)\n",
    "    #scores = cross_val_score(estimator=clf, X=x_train, y=y_train, cv=7, n_jobs=4)\n",
    "    clf.fit(X=x_train, y=y_train)\n",
    "    tree_model = clf.best_estimator_\n",
    "    print (clf.best_score_, clf.best_params_)\n",
    "    test_preds = clf.predict(x_test)\n",
    "    rf_probs1= clf.predict_proba(x_test)[:, 1]\n",
    "    # training error\n",
    "    print(f'Model Accuracy: {clf.score(x_train, y_train)}')\n",
    "    #test error\n",
    "    print(f'Model Accuracy: {clf.score(x_test, y_test)}')\n",
    "    print( roc_auc_score(y_test, rf_probs1))\n",
    "\n",
    "decesiontreeclassifier()\n"
   ]
  },
  {
   "cell_type": "code",
   "execution_count": null,
   "metadata": {
    "collapsed": true
   },
   "outputs": [],
   "source": [
    "def plotdecesiontree():\n",
    "    class_name=['R','M']\n",
    "    export_graphviz(clf,out_file =  \"myTree.dot\",feature_names = list(x_train.columns),class_names = class_name,\n",
    "                    filled = True,rounded = True)\n",
    "plotdecesiontree()"
   ]
  },
  {
   "cell_type": "code",
   "execution_count": null,
   "metadata": {
    "collapsed": true
   },
   "outputs": [],
   "source": []
  }
 ],
 "metadata": {
  "kernelspec": {
   "display_name": "Python 3",
   "language": "python",
   "name": "python3"
  },
  "language_info": {
   "codemirror_mode": {
    "name": "ipython",
    "version": 3
   },
   "file_extension": ".py",
   "mimetype": "text/x-python",
   "name": "python",
   "nbconvert_exporter": "python",
   "pygments_lexer": "ipython3",
   "version": "3.6.3"
  }
 },
 "nbformat": 4,
 "nbformat_minor": 2
}
